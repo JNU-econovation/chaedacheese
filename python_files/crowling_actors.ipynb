{
 "cells": [
  {
   "cell_type": "code",
   "execution_count": null,
   "id": "852f90e0",
   "metadata": {},
   "outputs": [],
   "source": [
    "import pandas as pd\n",
    "import os\n",
    "import csv"
   ]
  },
  {
   "cell_type": "code",
   "execution_count": null,
   "id": "d419d15b",
   "metadata": {},
   "outputs": [],
   "source": [
    "actors = pd.read_csv('/tf/data/actors01.csv')\n",
    "\n",
    "male_actors = actors['Male_actor']\n",
    "female_actors = actors['Female_actor']\n",
    "\n",
    "male_actors.drop_duplicates(inplace=True, ignore_index=True)\n",
    "male_actors = male_actors.reset_index(drop=True)\n",
    "\n",
    "female_actors.drop_duplicates(inplace=True, ignore_index=True)\n",
    "female_actors.dropna(inplace=True, ignore_index=True)\n",
    "female_actors = female_actors.reset_index(drop=True)"
   ]
  },
  {
   "cell_type": "code",
   "execution_count": null,
   "id": "a64cae97",
   "metadata": {},
   "outputs": [],
   "source": [
    "male_actors_list = male_actors.tolist()\n",
    "female_actors_list = female_actors.tolist()"
   ]
  },
  {
   "cell_type": "code",
   "execution_count": null,
   "id": "4b09cf88",
   "metadata": {},
   "outputs": [],
   "source": [
    "len(male_actors_list)"
   ]
  },
  {
   "cell_type": "code",
   "execution_count": null,
   "id": "a35ed7ac",
   "metadata": {},
   "outputs": [],
   "source": [
    "len(female_actors_list)"
   ]
  },
  {
   "cell_type": "markdown",
   "id": "da09ca26",
   "metadata": {},
   "source": [
    "---"
   ]
  },
  {
   "cell_type": "markdown",
   "id": "72ea266c",
   "metadata": {},
   "source": [
    "## Actors"
   ]
  },
  {
   "cell_type": "code",
   "execution_count": null,
   "id": "bc4241f4",
   "metadata": {
    "scrolled": false
   },
   "outputs": [],
   "source": [
    "# %pip install selenium\n",
    "# !wget -q -O - https://dl-ssl.google.com/linux/linux_signing_key.pub | sudo apt-key add - \n",
    "# !sudo sh -c 'echo \"deb [arch=amd64] http://dl.google.com/linux/chrome/deb/ stable main\" >> /etc/apt/sources.list.d/google.list' \n",
    "# !sudo apt-get update \n",
    "# !sudo apt-get install google-chrome-stable -y\n",
    "# !google-chrome --version \n",
    "# !wget -N https://chromedriver.storage.googleapis.com/114.0.5735.90/chromedriver_linux64.zip\n",
    "# !unzip chromedriver_linux64.zip \n",
    "# !pip install xlrd \n",
    "# !sudo apt-get install xvfb -y\n",
    "# !sudo pip install pyvirtualdisplay\n",
    "# !sudo pip install bs4"
   ]
  },
  {
   "cell_type": "code",
   "execution_count": null,
   "id": "f99124a7",
   "metadata": {},
   "outputs": [],
   "source": [
    "import ssl\n",
    "ssl._create_default_https_context = ssl._create_unverified_context\n",
    "\n",
    "from selenium import webdriver\n",
    "from selenium.webdriver.common.keys import Keys\n",
    "from selenium.webdriver.common.by import By\n",
    "import time\n",
    "import urllib.request\n",
    "\n",
    "\n",
    "def female_crowling(name):\n",
    "    searchKey = name\n",
    "    chrome_options = webdriver.ChromeOptions()\n",
    "    chrome_options.add_argument('--headless')\n",
    "    chrome_options.add_argument('--no-sandbox')\n",
    "    chrome_options.add_argument(\"--single-process\")\n",
    "    chrome_options.add_argument(\"--disable-dev-shm-usage\")\n",
    "    path='/tf/crowling/chromedriver'\n",
    "    driver = webdriver.Chrome(path, options=chrome_options)\n",
    "#     driver = webdriver.Chrome(service=Service(ChromeDriverManager().install())/\n",
    "\n",
    "\n",
    "\n",
    "    driver.get(\"https://www.google.co.kr/imghp?hl=ko&tab=wi&authuser=0&ogbl\")\n",
    "    elem = driver.find_element(\"name\", \"q\")\n",
    "\n",
    "    elem.send_keys(searchKey)\n",
    "    elem.send_keys(Keys.RETURN)\n",
    "\n",
    "    SCROLL_PAUSE_TIME = 1\n",
    "    # Get scroll height\n",
    "    last_height = driver.execute_script(\"return document.body.scrollHeight\")\n",
    "    while True:\n",
    "        # Scroll down to bottom\n",
    "        driver.execute_script(\"window.scrollTo(0, document.body.scrollHeight);\")\n",
    "        # Wait to load page\n",
    "        time.sleep(SCROLL_PAUSE_TIME)\n",
    "        # Calculate new scroll height and compare with last scroll height\n",
    "        new_height = driver.execute_script(\"return document.body.scrollHeight\")\n",
    "        if new_height == last_height:\n",
    "            try:\n",
    "                driver.find_element(By.CSS_SELECTOR, \".mye4qd\").send_keys(Keys.ENTER)\n",
    "            except:\n",
    "                break\n",
    "        last_height = new_height\n",
    "\n",
    "    images = driver.find_elements(By.CSS_SELECTOR, \".rg_i.Q4LuWd\")\n",
    "    count = 1\n",
    "    save = 1\n",
    "    \n",
    "    for image in images:\n",
    "        \n",
    "        try:\n",
    "            \n",
    "            if count < 5 :\n",
    "                image.click()\n",
    "                time.sleep(10)\n",
    "#                 imgUrl = driver.find_element(\n",
    "#                     By.XPATH,\n",
    "#                     '/html/body/div[2]/c-wiz/div[3]/div[2]/div[3]/div[2]/div[2]/div[2]/div[2]/c-wiz/div/div/div/div[3]/div[1]/a/img[1]'\n",
    "#                 ).get_attribute(\"src\")\n",
    "                imgUrl = driver.find_element(\n",
    "                    By.CSS_SELECTOR,\n",
    "                    '.r48jcc.pT0Scc.iPVvYb'\n",
    "                ).get_attribute(\"src\")\n",
    "                opener = urllib.request.build_opener()\n",
    "                opener.addheaders = [\n",
    "                    ('User-Agent',\n",
    "                     'Mozilla/5.0 (Windows NT 6.1; WOW64) AppleWebKit/537.36 (KHTML, like Gecko) Chrome/36.0.1941.0 Safari/537.36')\n",
    "                ]\n",
    "                urllib.request.install_opener(opener)\n",
    "                urllib.request.urlretrieve(imgUrl, f'../MTCNN/imgs/{searchKey}{str(count)}.jpg')\n",
    "                count = count + 1\n",
    "                print('저장 성공 ', save)\n",
    "                save += 1\n",
    "            else:\n",
    "            \n",
    "                break\n",
    "\n",
    "            \n",
    "        except Exception as e:\n",
    "            print('e : ', e)\n",
    "            pass\n",
    "\n",
    "    driver.quit()"
   ]
  },
  {
   "cell_type": "code",
   "execution_count": null,
   "id": "ea61a24d",
   "metadata": {},
   "outputs": [],
   "source": [
    "for name in female_actors_list:\n",
    "    female_crowling('여자배우 ' + name)"
   ]
  }
 ],
 "metadata": {
  "kernelspec": {
   "display_name": "Python 3 (ipykernel)",
   "language": "python",
   "name": "python3"
  },
  "language_info": {
   "codemirror_mode": {
    "name": "ipython",
    "version": 3
   },
   "file_extension": ".py",
   "mimetype": "text/x-python",
   "name": "python",
   "nbconvert_exporter": "python",
   "pygments_lexer": "ipython3",
   "version": "3.10.12"
  }
 },
 "nbformat": 4,
 "nbformat_minor": 5
}
